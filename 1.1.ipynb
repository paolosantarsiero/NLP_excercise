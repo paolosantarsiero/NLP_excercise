{
 "metadata": {
  "language_info": {
   "codemirror_mode": {
    "name": "ipython",
    "version": 3
   },
   "file_extension": ".py",
   "mimetype": "text/x-python",
   "name": "python",
   "nbconvert_exporter": "python",
   "pygments_lexer": "ipython3",
   "version": "3.8.4-final"
  },
  "orig_nbformat": 2,
  "kernelspec": {
   "name": "python3",
   "display_name": "Python 3.8.4 64-bit",
   "metadata": {
    "interpreter": {
     "hash": "2db524e06e9f5f4ffedc911c917cb75e12dbc923643829bf417064a77eb14d37"
    }
   }
  },
  "metadata": {
   "interpreter": {
    "hash": "aee8b7b246df8f9039afb4144a1f6fd8d2ca17a180786b69acc140d282b71a49"
   }
  }
 },
 "nbformat": 4,
 "nbformat_minor": 2,
 "cells": [
  {
   "source": [
    "# Valutazione della similarità"
   ],
   "cell_type": "markdown",
   "metadata": {}
  },
  {
   "cell_type": "code",
   "execution_count": 15,
   "metadata": {},
   "outputs": [],
   "source": [
    "import csv\n",
    "from nltk import word_tokenize\n",
    "from nltk.corpus import stopwords\n",
    "from nltk.stem import PorterStemmer\n",
    "import numpy as np"
   ]
  },
  {
   "source": [
    "#### STRUCTURE DTA"
   ],
   "cell_type": "markdown",
   "metadata": {}
  },
  {
   "cell_type": "code",
   "execution_count": 16,
   "metadata": {},
   "outputs": [],
   "source": [
    "stop_words = set(stopwords.words('english'))\n",
    "ps = PorterStemmer()\n",
    "rows_courage = [];\n",
    "rows_paper = [];\n",
    "rows_apprehension = [];\n",
    "rows_sharpener = [];"
   ]
  },
  {
   "source": [
    "### Preprocessing method"
   ],
   "cell_type": "markdown",
   "metadata": {}
  },
  {
   "cell_type": "code",
   "execution_count": 17,
   "metadata": {},
   "outputs": [],
   "source": [
    "def preprocessing(row):\n",
    "    final_row = []\n",
    "    words = word_tokenize(row);\n",
    "    for word in words:\n",
    "        word = word.lower()\n",
    "        if word not in stop_words:\n",
    "            stem = ps.stem(word);\n",
    "            final_row.append(stem)\n",
    "            final_row.append(\" \")\n",
    "    return \"\".join(final_row)"
   ]
  },
  {
   "source": [
    "#### READ FILE"
   ],
   "cell_type": "markdown",
   "metadata": {}
  },
  {
   "cell_type": "code",
   "execution_count": 18,
   "metadata": {},
   "outputs": [],
   "source": [
    "with open('defs.csv', 'r') as file:\n",
    "    reader = csv.reader(file)\n",
    "    i = 0;\n",
    "    for row in reader:\n",
    "        if i != 0:\n",
    "            rows_courage.append(preprocessing(row[1]))\n",
    "            rows_paper.append(preprocessing(row[2]))\n",
    "            rows_apprehension.append(preprocessing(row[3]))\n",
    "            rows_sharpener.append(preprocessing(row[4]))\n",
    "        i = i + 1\n"
   ]
  },
  {
   "cell_type": "code",
   "execution_count": 19,
   "metadata": {},
   "outputs": [],
   "source": [
    "def jaccard_similarity(s1, s2):\n",
    "    words1 = word_tokenize(s1);\n",
    "    words2 = word_tokenize(s2);\n",
    "    intersection = set(words1).intersection(set(words2))\n",
    "    union = set(words1).union(set(words2))\n",
    "    if len(union) == 0:\n",
    "        return 0\n",
    "    return len(intersection)/len(union)"
   ]
  },
  {
   "source": [
    "### EVALUTE DEFS"
   ],
   "cell_type": "markdown",
   "metadata": {}
  },
  {
   "cell_type": "code",
   "execution_count": 20,
   "metadata": {},
   "outputs": [],
   "source": [
    "def evaluate(rows):\n",
    "    values = []\n",
    "    for i in range(0, len(rows) - 1):\n",
    "        similarity = jaccard_similarity(rows[i], rows[i+1])\n",
    "        values.append(similarity)\n",
    "    return np.mean(values)"
   ]
  },
  {
   "cell_type": "code",
   "execution_count": 21,
   "metadata": {},
   "outputs": [
    {
     "output_type": "execute_result",
     "data": {
      "text/plain": [
       "0.13802824159967017"
      ]
     },
     "metadata": {},
     "execution_count": 21
    }
   ],
   "source": [
    "evaluate(rows_courage)"
   ]
  },
  {
   "cell_type": "code",
   "execution_count": 22,
   "metadata": {},
   "outputs": [
    {
     "output_type": "execute_result",
     "data": {
      "text/plain": [
       "0.17438132304203732"
      ]
     },
     "metadata": {},
     "execution_count": 22
    }
   ],
   "source": [
    "evaluate(rows_paper)"
   ]
  },
  {
   "cell_type": "code",
   "execution_count": 23,
   "metadata": {},
   "outputs": [
    {
     "output_type": "execute_result",
     "data": {
      "text/plain": [
       "0.08045634920634921"
      ]
     },
     "metadata": {},
     "execution_count": 23
    }
   ],
   "source": [
    "evaluate(rows_apprehension)"
   ]
  },
  {
   "cell_type": "code",
   "execution_count": 24,
   "metadata": {},
   "outputs": [
    {
     "output_type": "execute_result",
     "data": {
      "text/plain": [
       "0.305640589569161"
      ]
     },
     "metadata": {},
     "execution_count": 24
    }
   ],
   "source": [
    "evaluate(rows_sharpener)"
   ]
  },
  {
   "cell_type": "code",
   "execution_count": null,
   "metadata": {},
   "outputs": [],
   "source": []
  }
 ]
}
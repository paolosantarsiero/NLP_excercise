{
 "metadata": {
  "language_info": {
   "codemirror_mode": {
    "name": "ipython",
    "version": 3
   },
   "file_extension": ".py",
   "mimetype": "text/x-python",
   "name": "python",
   "nbconvert_exporter": "python",
   "pygments_lexer": "ipython3",
   "version": "3.8.4-final"
  },
  "orig_nbformat": 2,
  "kernelspec": {
   "name": "python3",
   "display_name": "Python 3.8.4 64-bit",
   "metadata": {
    "interpreter": {
     "hash": "2db524e06e9f5f4ffedc911c917cb75e12dbc923643829bf417064a77eb14d37"
    }
   }
  },
  "metadata": {
   "interpreter": {
    "hash": "ac2eaa0ea0ebeafcc7822e65e46aa9d4f966f30b695406963e145ea4a91cd4fc"
   }
  }
 },
 "nbformat": 4,
 "nbformat_minor": 2,
 "cells": [
  {
   "source": [
    "# Esercizio sulla teoria di Hanks"
   ],
   "cell_type": "markdown",
   "metadata": {}
  },
  {
   "cell_type": "code",
   "execution_count": 155,
   "metadata": {},
   "outputs": [
    {
     "output_type": "stream",
     "name": "stderr",
     "text": [
      "[nltk_data] Downloading package gutenberg to\n[nltk_data]     C:\\Users\\Pablo\\AppData\\Roaming\\nltk_data...\n[nltk_data]   Package gutenberg is already up-to-date!\n[nltk_data] Downloading package wordnet to\n[nltk_data]     C:\\Users\\Pablo\\AppData\\Roaming\\nltk_data...\n[nltk_data]   Package wordnet is already up-to-date!\n"
     ]
    },
    {
     "output_type": "execute_result",
     "data": {
      "text/plain": [
       "True"
      ]
     },
     "metadata": {},
     "execution_count": 155
    }
   ],
   "source": [
    "import nltk;\n",
    "from nltk.corpus import wordnet\n",
    "import spacy\n",
    "import nltk\n",
    "nlp = spacy.load(\"en_core_web_sm\")\n",
    "nltk.download('gutenberg')\n",
    "nltk.download('wordnet')"
   ]
  },
  {
   "cell_type": "code",
   "execution_count": 156,
   "metadata": {
    "tags": []
   },
   "outputs": [
    {
     "output_type": "stream",
     "name": "stdout",
     "text": [
      "{'noun.communication_noun.communication': 361, 'noun.communication_adj.all': 190, 'adj.all_noun.communication': 190, 'adj.all_adj.all': 100, 'noun.communication_noun.person': 95, 'noun.communication_noun.cognition': 95, 'noun.person_noun.communication': 95, 'noun.cognition_noun.communication': 95, 'noun.communication_verb.communication': 76, 'noun.communication_noun.substance': 76, 'noun.communication_noun.quantity': 76, 'verb.communication_noun.communication': 76, 'noun.substance_noun.communication': 76, 'noun.quantity_noun.communication': 76, 'noun.communication_noun.attribute': 57, 'noun.communication_noun.possession': 57, 'noun.attribute_noun.communication': 57, 'noun.possession_noun.communication': 57, 'noun.person_adj.all': 50, 'noun.cognition_adj.all': 50, 'adj.all_noun.person': 50, 'adj.all_noun.cognition': 50, 'verb.communication_adj.all': 40, 'noun.substance_adj.all': 40, 'noun.quantity_adj.all': 40, 'adj.all_verb.communication': 40, 'adj.all_noun.substance': 40, 'adj.all_noun.quantity': 40, 'noun.communication_noun.state': 38, 'noun.communication_verb.perception': 38, 'noun.communication_verb.possession': 38, 'noun.communication_verb.creation': 38, 'noun.state_noun.communication': 38, 'verb.perception_noun.communication': 38, 'verb.possession_noun.communication': 38, 'verb.creation_noun.communication': 38, 'noun.attribute_adj.all': 30, 'noun.possession_adj.all': 30, 'adj.all_noun.attribute': 30, 'adj.all_noun.possession': 30, 'noun.person_noun.person': 25, 'noun.person_noun.cognition': 25, 'noun.cognition_noun.person': 25, 'noun.cognition_noun.cognition': 25, 'noun.state_adj.all': 20, 'verb.communication_noun.person': 20, 'verb.communication_noun.cognition': 20, 'verb.perception_adj.all': 20, 'noun.person_verb.communication': 20, 'noun.person_noun.substance': 20, 'noun.person_noun.quantity': 20, 'noun.substance_noun.person': 20, 'noun.substance_noun.cognition': 20, 'noun.cognition_verb.communication': 20, 'noun.cognition_noun.substance': 20, 'noun.cognition_noun.quantity': 20, 'verb.possession_adj.all': 20, 'noun.quantity_noun.person': 20, 'noun.quantity_noun.cognition': 20, 'adj.all_noun.state': 20, 'adj.all_verb.perception': 20, 'adj.all_verb.possession': 20, 'adj.all_verb.creation': 20, 'verb.creation_adj.all': 20, 'noun.communication_verb.social': 19, 'noun.communication_verb.body': 19, 'noun.communication_noun.motive': 19, 'noun.communication_verb.stative': 19, 'verb.social_noun.communication': 19, 'verb.body_noun.communication': 19, 'noun.motive_noun.communication': 19, 'verb.stative_noun.communication': 19, 'verb.communication_verb.communication': 16, 'verb.communication_noun.substance': 16, 'verb.communication_noun.quantity': 16, 'noun.substance_verb.communication': 16, 'noun.substance_noun.substance': 16, 'noun.substance_noun.quantity': 16, 'noun.quantity_verb.communication': 16, 'noun.quantity_noun.substance': 16, 'noun.quantity_noun.quantity': 16, 'noun.attribute_noun.person': 15, 'noun.attribute_noun.cognition': 15, 'noun.possession_noun.person': 15, 'noun.possession_noun.cognition': 15, 'noun.person_noun.attribute': 15, 'noun.person_noun.possession': 15, 'noun.cognition_noun.attribute': 15, 'noun.cognition_noun.possession': 15, 'noun.attribute_verb.communication': 12, 'noun.attribute_noun.substance': 12, 'noun.attribute_noun.quantity': 12, 'noun.possession_verb.communication': 12, 'noun.possession_noun.substance': 12, 'noun.possession_noun.quantity': 12, 'verb.communication_noun.attribute': 12, 'verb.communication_noun.possession': 12, 'noun.substance_noun.attribute': 12, 'noun.substance_noun.possession': 12, 'noun.quantity_noun.attribute': 12, 'noun.quantity_noun.possession': 12, 'noun.state_noun.person': 10, 'noun.state_noun.cognition': 10, 'verb.perception_noun.person': 10, 'verb.perception_noun.cognition': 10, 'noun.person_noun.state': 10, 'noun.person_verb.perception': 10, 'noun.person_verb.possession': 10, 'noun.person_verb.creation': 10, 'noun.cognition_noun.state': 10, 'noun.cognition_verb.perception': 10, 'noun.cognition_verb.possession': 10, 'noun.cognition_verb.creation': 10, 'verb.social_adj.all': 10, 'verb.body_adj.all': 10, 'noun.motive_adj.all': 10, 'verb.stative_adj.all': 10, 'verb.possession_noun.person': 10, 'verb.possession_noun.cognition': 10, 'adj.all_verb.social': 10, 'adj.all_verb.body': 10, 'adj.all_noun.motive': 10, 'adj.all_verb.stative': 10, 'verb.creation_noun.person': 10, 'verb.creation_noun.cognition': 10, 'noun.attribute_noun.attribute': 9, 'noun.attribute_noun.possession': 9, 'noun.possession_noun.attribute': 9, 'noun.possession_noun.possession': 9, 'noun.state_verb.communication': 8, 'noun.state_noun.substance': 8, 'noun.state_noun.quantity': 8, 'verb.communication_noun.state': 8, 'verb.communication_verb.perception': 8, 'verb.communication_verb.possession': 8, 'verb.communication_verb.creation': 8, 'verb.perception_verb.communication': 8, 'verb.perception_noun.substance': 8, 'verb.perception_noun.quantity': 8, 'noun.substance_noun.state': 8, 'noun.substance_verb.perception': 8, 'noun.substance_verb.possession': 8, 'noun.substance_verb.creation': 8, 'verb.possession_verb.communication': 8, 'verb.possession_noun.substance': 8, 'verb.possession_noun.quantity': 8, 'noun.quantity_noun.state': 8, 'noun.quantity_verb.perception': 8, 'noun.quantity_verb.possession': 8, 'noun.quantity_verb.creation': 8, 'verb.creation_verb.communication': 8, 'verb.creation_noun.substance': 8, 'verb.creation_noun.quantity': 8, 'noun.attribute_noun.state': 6, 'noun.attribute_verb.perception': 6, 'noun.attribute_verb.possession': 6, 'noun.attribute_verb.creation': 6, 'noun.possession_noun.state': 6, 'noun.possession_verb.perception': 6, 'noun.possession_verb.possession': 6, 'noun.possession_verb.creation': 6, 'noun.state_noun.attribute': 6, 'noun.state_noun.possession': 6, 'verb.perception_noun.attribute': 6, 'verb.perception_noun.possession': 6, 'verb.possession_noun.attribute': 6, 'verb.possession_noun.possession': 6, 'verb.creation_noun.attribute': 6, 'verb.creation_noun.possession': 6, 'noun.person_verb.social': 5, 'noun.person_verb.body': 5, 'noun.person_noun.motive': 5, 'noun.person_verb.stative': 5, 'noun.cognition_verb.social': 5, 'noun.cognition_verb.body': 5, 'noun.cognition_noun.motive': 5, 'noun.cognition_verb.stative': 5, 'verb.social_noun.person': 5, 'verb.social_noun.cognition': 5, 'verb.body_noun.person': 5, 'verb.body_noun.cognition': 5, 'noun.motive_noun.person': 5, 'noun.motive_noun.cognition': 5, 'verb.stative_noun.person': 5, 'verb.stative_noun.cognition': 5, 'noun.state_noun.state': 4, 'noun.state_verb.perception': 4, 'noun.state_verb.possession': 4, 'noun.state_verb.creation': 4, 'verb.communication_verb.social': 4, 'verb.communication_verb.body': 4, 'verb.communication_noun.motive': 4, 'verb.communication_verb.stative': 4, 'verb.perception_noun.state': 4, 'verb.perception_verb.perception': 4, 'verb.perception_verb.possession': 4, 'verb.perception_verb.creation': 4, 'noun.substance_verb.social': 4, 'noun.substance_verb.body': 4, 'noun.substance_noun.motive': 4, 'noun.substance_verb.stative': 4, 'verb.social_verb.communication': 4, 'verb.social_noun.substance': 4, 'verb.social_noun.quantity': 4, 'verb.body_verb.communication': 4, 'verb.body_noun.substance': 4, 'verb.body_noun.quantity': 4, 'noun.motive_verb.communication': 4, 'noun.motive_noun.substance': 4, 'noun.motive_noun.quantity': 4, 'verb.stative_verb.communication': 4, 'verb.stative_noun.substance': 4, 'verb.stative_noun.quantity': 4, 'verb.possession_noun.state': 4, 'verb.possession_verb.perception': 4, 'verb.possession_verb.possession': 4, 'verb.possession_verb.creation': 4, 'noun.quantity_verb.social': 4, 'noun.quantity_verb.body': 4, 'noun.quantity_noun.motive': 4, 'noun.quantity_verb.stative': 4, 'verb.creation_noun.state': 4, 'verb.creation_verb.perception': 4, 'verb.creation_verb.possession': 4, 'verb.creation_verb.creation': 4, 'noun.attribute_verb.social': 3, 'noun.attribute_verb.body': 3, 'noun.attribute_noun.motive': 3, 'noun.attribute_verb.stative': 3, 'noun.possession_verb.social': 3, 'noun.possession_verb.body': 3, 'noun.possession_noun.motive': 3, 'noun.possession_verb.stative': 3, 'verb.social_noun.attribute': 3, 'verb.social_noun.possession': 3, 'verb.body_noun.attribute': 3, 'verb.body_noun.possession': 3, 'noun.motive_noun.attribute': 3, 'noun.motive_noun.possession': 3, 'verb.stative_noun.attribute': 3, 'verb.stative_noun.possession': 3, 'noun.state_verb.social': 2, 'noun.state_verb.body': 2, 'noun.state_noun.motive': 2, 'noun.state_verb.stative': 2, 'verb.perception_verb.social': 2, 'verb.perception_verb.body': 2, 'verb.perception_noun.motive': 2, 'verb.perception_verb.stative': 2, 'verb.social_noun.state': 2, 'verb.social_verb.perception': 2, 'verb.social_verb.possession': 2, 'verb.social_verb.creation': 2, 'verb.body_noun.state': 2, 'verb.body_verb.perception': 2, 'verb.body_verb.possession': 2, 'verb.body_verb.creation': 2, 'noun.motive_noun.state': 2, 'noun.motive_verb.perception': 2, 'noun.motive_verb.possession': 2, 'noun.motive_verb.creation': 2, 'verb.stative_noun.state': 2, 'verb.stative_verb.perception': 2, 'verb.stative_verb.possession': 2, 'verb.stative_verb.creation': 2, 'verb.possession_verb.social': 2, 'verb.possession_verb.body': 2, 'verb.possession_noun.motive': 2, 'verb.possession_verb.stative': 2, 'verb.creation_verb.social': 2, 'verb.creation_verb.body': 2, 'verb.creation_noun.motive': 2, 'verb.creation_verb.stative': 2, 'verb.social_verb.social': 1, 'verb.social_verb.body': 1, 'verb.social_noun.motive': 1, 'verb.social_verb.stative': 1, 'verb.body_verb.social': 1, 'verb.body_verb.body': 1, 'verb.body_noun.motive': 1, 'verb.body_verb.stative': 1, 'noun.motive_verb.social': 1, 'noun.motive_verb.body': 1, 'noun.motive_noun.motive': 1, 'noun.motive_verb.stative': 1, 'verb.stative_verb.social': 1, 'verb.stative_verb.body': 1, 'verb.stative_noun.motive': 1, 'verb.stative_verb.stative': 1}\n"
     ]
    }
   ],
   "source": [
    "\n",
    "#verify len of corpus that is must be > 1000\n",
    "emma = nltk.corpus.gutenberg.sents('austen-sense.txt')\n",
    "#print(\"SIZE OF CORPUS\" , len(emma))\n",
    "\n",
    "verb = 'write' # with two arguments\n",
    "\n",
    "OBJECT_DEPS = {\"dobj\", \"dative\", \"attr\", \"oprd\"}\n",
    "SUBJECT_DEPS = {\"nsubj\", \"nsubjpass\", \"csubj\", \"agent\", \"expl\"}\n",
    "\n",
    "semtypes_subjs = []\n",
    "semtypes_objs = []\n",
    "\n",
    "for sent in emma:\n",
    "    subjs, objs = get_subjs_and_objs(sent, verb)\n",
    "    semtypes_subjs, semtypes_objs = get_semtypes(subjs, objs, semtypes_subjs, semtypes_objs)\n",
    "sorted_result = aggreate_result(semtypes_subjs, semtypes_objs)\n",
    "print(sorted_result)"
   ]
  },
  {
   "cell_type": "code",
   "execution_count": 157,
   "metadata": {},
   "outputs": [],
   "source": [
    "def get_subjs_and_objs(sent, verb):\n",
    "    subjs = objs = []\n",
    "    if verb in sent:\n",
    "        #convert array to a string\n",
    "        sent_tmp = \" \"\n",
    "        sent_tmp = sent_tmp.join(sent)\n",
    "        parsed_text = nlp(sent_tmp)\n",
    "        #get token dependencies\n",
    "        for text in parsed_text:\n",
    "            #subject would be\n",
    "            if text.dep_ in SUBJECT_DEPS and str(text.head) == verb:\n",
    "                subjs.append(text.orth_)\n",
    "            #dobj for direct object\n",
    "            if text.dep_ in OBJECT_DEPS and str(text.head) == verb:\n",
    "                objs.append(text.orth_)\n",
    "    return subjs, objs"
   ]
  },
  {
   "cell_type": "code",
   "execution_count": 158,
   "metadata": {},
   "outputs": [],
   "source": [
    "def get_semtypes(subjs, objs, semtypes_subjs, semtypes_objs):\n",
    "    for word in subjs:\n",
    "            synsets_subjs = wordnet.synsets(word)\n",
    "            for synset in synsets_subjs:\n",
    "                semtypes_subjs.append(synset.lexname())\n",
    "    for word in objs:\n",
    "        synsets_objs = wordnet.synsets(word)\n",
    "        for synset in synsets_objs:\n",
    "            semtypes_objs.append(synset.lexname())\n",
    "    return semtypes_subjs, semtypes_objs"
   ]
  },
  {
   "cell_type": "code",
   "execution_count": 159,
   "metadata": {},
   "outputs": [],
   "source": [
    "def aggreate_result(semtypes_subjs, semtypes_objs):\n",
    "    result = dict()\n",
    "    for semtype_s in semtypes_subjs:\n",
    "        for semtype_o in semtypes_objs:\n",
    "            key = \"%s_%s\" % (semtype_s,semtype_o)\n",
    "            if key in result.keys():\n",
    "                result[key] = result[key] + 1\n",
    "            else:\n",
    "                result[key] = 1\n",
    "    sorted_result = dict(sorted(result.items(), key=lambda item: item[1], reverse=True));\n",
    "    return sorted_result"
   ]
  },
  {
   "cell_type": "code",
   "execution_count": null,
   "metadata": {},
   "outputs": [],
   "source": []
  }
 ]
}